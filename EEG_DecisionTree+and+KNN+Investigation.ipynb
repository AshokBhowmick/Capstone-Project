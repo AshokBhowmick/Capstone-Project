{
 "cells": [
  {
   "cell_type": "code",
   "execution_count": 1,
   "metadata": {
    "collapsed": true
   },
   "outputs": [],
   "source": [
    "# Decision Tree and KNN Classification of Principal components of EEG data set\n",
    "# A total of first 40 Columns upto variance = 1 are selected \n",
    "# Contribution of all features are considered thus by the linear combination as given in components\n",
    "import pandas as pd\n",
    "import numpy as np\n",
    "import matplotlib.pyplot as plt\n",
    "import seaborn as sns\n",
    "%matplotlib inline"
   ]
  },
  {
   "cell_type": "code",
   "execution_count": 44,
   "metadata": {},
   "outputs": [],
   "source": [
    "eeg_pca = pd.read_csv(\"eeg_pca_all_Mod.csv\")"
   ]
  },
  {
   "cell_type": "code",
   "execution_count": 45,
   "metadata": {},
   "outputs": [
    {
     "data": {
      "text/plain": [
       "Index(['C1', 'C2', 'C3', 'C4', 'C5', 'C6', 'C7', 'C8', 'C9', 'C10', 'C11',\n",
       "       'C12', 'C13', 'C14', 'C15', 'C16', 'C17', 'C18', 'C19', 'C20', 'C21',\n",
       "       'C22', 'C23', 'C24', 'C25', 'C26', 'C27', 'C28', 'C29', 'C30', 'C31',\n",
       "       'C32', 'C33', 'C34', 'C35', 'C36', 'C37', 'C38', 'C39', 'C40', 'y'],\n",
       "      dtype='object')"
      ]
     },
     "execution_count": 45,
     "metadata": {},
     "output_type": "execute_result"
    }
   ],
   "source": [
    "eeg_pca.columns"
   ]
  },
  {
   "cell_type": "code",
   "execution_count": 36,
   "metadata": {},
   "outputs": [
    {
     "data": {
      "text/html": [
       "<div>\n",
       "<style>\n",
       "    .dataframe thead tr:only-child th {\n",
       "        text-align: right;\n",
       "    }\n",
       "\n",
       "    .dataframe thead th {\n",
       "        text-align: left;\n",
       "    }\n",
       "\n",
       "    .dataframe tbody tr th {\n",
       "        vertical-align: top;\n",
       "    }\n",
       "</style>\n",
       "<table border=\"1\" class=\"dataframe\">\n",
       "  <thead>\n",
       "    <tr style=\"text-align: right;\">\n",
       "      <th></th>\n",
       "      <th>C1</th>\n",
       "      <th>C2</th>\n",
       "      <th>C3</th>\n",
       "      <th>C4</th>\n",
       "      <th>C5</th>\n",
       "      <th>C6</th>\n",
       "      <th>C7</th>\n",
       "      <th>C8</th>\n",
       "      <th>C9</th>\n",
       "      <th>C10</th>\n",
       "      <th>...</th>\n",
       "      <th>C32</th>\n",
       "      <th>C33</th>\n",
       "      <th>C34</th>\n",
       "      <th>C35</th>\n",
       "      <th>C36</th>\n",
       "      <th>C37</th>\n",
       "      <th>C38</th>\n",
       "      <th>C39</th>\n",
       "      <th>C40</th>\n",
       "      <th>y</th>\n",
       "    </tr>\n",
       "  </thead>\n",
       "  <tbody>\n",
       "    <tr>\n",
       "      <th>count</th>\n",
       "      <td>1.150000e+04</td>\n",
       "      <td>1.150000e+04</td>\n",
       "      <td>1.150000e+04</td>\n",
       "      <td>1.150000e+04</td>\n",
       "      <td>1.150000e+04</td>\n",
       "      <td>1.150000e+04</td>\n",
       "      <td>1.150000e+04</td>\n",
       "      <td>1.150000e+04</td>\n",
       "      <td>1.150000e+04</td>\n",
       "      <td>1.150000e+04</td>\n",
       "      <td>...</td>\n",
       "      <td>1.150000e+04</td>\n",
       "      <td>1.150000e+04</td>\n",
       "      <td>1.150000e+04</td>\n",
       "      <td>1.150000e+04</td>\n",
       "      <td>1.150000e+04</td>\n",
       "      <td>1.150000e+04</td>\n",
       "      <td>1.150000e+04</td>\n",
       "      <td>1.150000e+04</td>\n",
       "      <td>1.150000e+04</td>\n",
       "      <td>11500.000000</td>\n",
       "    </tr>\n",
       "    <tr>\n",
       "      <th>mean</th>\n",
       "      <td>-6.434767e-12</td>\n",
       "      <td>4.000020e-12</td>\n",
       "      <td>3.478358e-12</td>\n",
       "      <td>8.260911e-12</td>\n",
       "      <td>7.739110e-12</td>\n",
       "      <td>5.999923e-12</td>\n",
       "      <td>2.521773e-12</td>\n",
       "      <td>-1.738750e-13</td>\n",
       "      <td>-4.086958e-12</td>\n",
       "      <td>3.652063e-12</td>\n",
       "      <td>...</td>\n",
       "      <td>-1.652171e-12</td>\n",
       "      <td>-4.173891e-12</td>\n",
       "      <td>1.173905e-11</td>\n",
       "      <td>-6.347833e-12</td>\n",
       "      <td>1.304373e-12</td>\n",
       "      <td>-1.043481e-12</td>\n",
       "      <td>-3.477762e-13</td>\n",
       "      <td>-5.826096e-12</td>\n",
       "      <td>-1.391326e-12</td>\n",
       "      <td>3.000000</td>\n",
       "    </tr>\n",
       "    <tr>\n",
       "      <th>std</th>\n",
       "      <td>3.159719e+00</td>\n",
       "      <td>3.054067e+00</td>\n",
       "      <td>2.972846e+00</td>\n",
       "      <td>2.931034e+00</td>\n",
       "      <td>2.800360e+00</td>\n",
       "      <td>2.716979e+00</td>\n",
       "      <td>2.686619e+00</td>\n",
       "      <td>2.634082e+00</td>\n",
       "      <td>2.553724e+00</td>\n",
       "      <td>2.462415e+00</td>\n",
       "      <td>...</td>\n",
       "      <td>1.523592e+00</td>\n",
       "      <td>1.494276e+00</td>\n",
       "      <td>1.426197e+00</td>\n",
       "      <td>1.394516e+00</td>\n",
       "      <td>1.307136e+00</td>\n",
       "      <td>1.196906e+00</td>\n",
       "      <td>1.096569e+00</td>\n",
       "      <td>1.060631e+00</td>\n",
       "      <td>9.868954e-01</td>\n",
       "      <td>1.414275</td>\n",
       "    </tr>\n",
       "    <tr>\n",
       "      <th>min</th>\n",
       "      <td>-3.472251e+01</td>\n",
       "      <td>-3.875663e+01</td>\n",
       "      <td>-3.736313e+01</td>\n",
       "      <td>-3.100859e+01</td>\n",
       "      <td>-2.833410e+01</td>\n",
       "      <td>-2.106016e+01</td>\n",
       "      <td>-2.496379e+01</td>\n",
       "      <td>-2.670985e+01</td>\n",
       "      <td>-2.910599e+01</td>\n",
       "      <td>-2.771948e+01</td>\n",
       "      <td>...</td>\n",
       "      <td>-1.691875e+01</td>\n",
       "      <td>-1.909063e+01</td>\n",
       "      <td>-2.000258e+01</td>\n",
       "      <td>-2.052583e+01</td>\n",
       "      <td>-1.756679e+01</td>\n",
       "      <td>-1.296933e+01</td>\n",
       "      <td>-1.792661e+01</td>\n",
       "      <td>-1.304413e+01</td>\n",
       "      <td>-1.382890e+01</td>\n",
       "      <td>1.000000</td>\n",
       "    </tr>\n",
       "    <tr>\n",
       "      <th>25%</th>\n",
       "      <td>-4.832010e-01</td>\n",
       "      <td>-4.861654e-01</td>\n",
       "      <td>-4.711165e-01</td>\n",
       "      <td>-4.506858e-01</td>\n",
       "      <td>-6.876488e-01</td>\n",
       "      <td>-1.195078e+00</td>\n",
       "      <td>-5.416575e-01</td>\n",
       "      <td>-1.119797e+00</td>\n",
       "      <td>-5.559593e-01</td>\n",
       "      <td>-7.692585e-01</td>\n",
       "      <td>...</td>\n",
       "      <td>-2.959082e-01</td>\n",
       "      <td>-3.257292e-01</td>\n",
       "      <td>-2.439990e-01</td>\n",
       "      <td>-2.225208e-01</td>\n",
       "      <td>-2.130407e-01</td>\n",
       "      <td>-2.056905e-01</td>\n",
       "      <td>-1.524571e-01</td>\n",
       "      <td>-1.669737e-01</td>\n",
       "      <td>-1.692109e-01</td>\n",
       "      <td>2.000000</td>\n",
       "    </tr>\n",
       "    <tr>\n",
       "      <th>50%</th>\n",
       "      <td>-3.895526e-02</td>\n",
       "      <td>2.332862e-03</td>\n",
       "      <td>-8.850477e-03</td>\n",
       "      <td>9.231791e-03</td>\n",
       "      <td>1.785829e-02</td>\n",
       "      <td>5.893835e-02</td>\n",
       "      <td>4.448018e-02</td>\n",
       "      <td>-4.589760e-02</td>\n",
       "      <td>2.133087e-02</td>\n",
       "      <td>3.154492e-03</td>\n",
       "      <td>...</td>\n",
       "      <td>-9.244097e-03</td>\n",
       "      <td>3.115520e-03</td>\n",
       "      <td>4.969701e-03</td>\n",
       "      <td>-7.965000e-06</td>\n",
       "      <td>5.860565e-03</td>\n",
       "      <td>1.184232e-02</td>\n",
       "      <td>2.377661e-02</td>\n",
       "      <td>3.130946e-03</td>\n",
       "      <td>-1.272622e-02</td>\n",
       "      <td>3.000000</td>\n",
       "    </tr>\n",
       "    <tr>\n",
       "      <th>75%</th>\n",
       "      <td>4.171722e-01</td>\n",
       "      <td>4.747425e-01</td>\n",
       "      <td>4.540274e-01</td>\n",
       "      <td>4.913377e-01</td>\n",
       "      <td>8.167425e-01</td>\n",
       "      <td>1.105186e+00</td>\n",
       "      <td>6.024013e-01</td>\n",
       "      <td>1.297714e+00</td>\n",
       "      <td>6.022882e-01</td>\n",
       "      <td>8.220335e-01</td>\n",
       "      <td>...</td>\n",
       "      <td>2.850805e-01</td>\n",
       "      <td>3.367179e-01</td>\n",
       "      <td>2.530717e-01</td>\n",
       "      <td>2.298445e-01</td>\n",
       "      <td>2.191603e-01</td>\n",
       "      <td>2.226151e-01</td>\n",
       "      <td>1.977843e-01</td>\n",
       "      <td>1.704705e-01</td>\n",
       "      <td>1.487752e-01</td>\n",
       "      <td>4.000000</td>\n",
       "    </tr>\n",
       "    <tr>\n",
       "      <th>max</th>\n",
       "      <td>3.929600e+01</td>\n",
       "      <td>3.081662e+01</td>\n",
       "      <td>3.040694e+01</td>\n",
       "      <td>2.916240e+01</td>\n",
       "      <td>3.022223e+01</td>\n",
       "      <td>2.430129e+01</td>\n",
       "      <td>2.941263e+01</td>\n",
       "      <td>2.152692e+01</td>\n",
       "      <td>2.779965e+01</td>\n",
       "      <td>1.851866e+01</td>\n",
       "      <td>...</td>\n",
       "      <td>1.835334e+01</td>\n",
       "      <td>1.307752e+01</td>\n",
       "      <td>2.047965e+01</td>\n",
       "      <td>1.507628e+01</td>\n",
       "      <td>2.191991e+01</td>\n",
       "      <td>2.045523e+01</td>\n",
       "      <td>1.277478e+01</td>\n",
       "      <td>1.234410e+01</td>\n",
       "      <td>1.361299e+01</td>\n",
       "      <td>5.000000</td>\n",
       "    </tr>\n",
       "  </tbody>\n",
       "</table>\n",
       "<p>8 rows × 41 columns</p>\n",
       "</div>"
      ],
      "text/plain": [
       "                 C1            C2            C3            C4            C5  \\\n",
       "count  1.150000e+04  1.150000e+04  1.150000e+04  1.150000e+04  1.150000e+04   \n",
       "mean  -6.434767e-12  4.000020e-12  3.478358e-12  8.260911e-12  7.739110e-12   \n",
       "std    3.159719e+00  3.054067e+00  2.972846e+00  2.931034e+00  2.800360e+00   \n",
       "min   -3.472251e+01 -3.875663e+01 -3.736313e+01 -3.100859e+01 -2.833410e+01   \n",
       "25%   -4.832010e-01 -4.861654e-01 -4.711165e-01 -4.506858e-01 -6.876488e-01   \n",
       "50%   -3.895526e-02  2.332862e-03 -8.850477e-03  9.231791e-03  1.785829e-02   \n",
       "75%    4.171722e-01  4.747425e-01  4.540274e-01  4.913377e-01  8.167425e-01   \n",
       "max    3.929600e+01  3.081662e+01  3.040694e+01  2.916240e+01  3.022223e+01   \n",
       "\n",
       "                 C6            C7            C8            C9           C10  \\\n",
       "count  1.150000e+04  1.150000e+04  1.150000e+04  1.150000e+04  1.150000e+04   \n",
       "mean   5.999923e-12  2.521773e-12 -1.738750e-13 -4.086958e-12  3.652063e-12   \n",
       "std    2.716979e+00  2.686619e+00  2.634082e+00  2.553724e+00  2.462415e+00   \n",
       "min   -2.106016e+01 -2.496379e+01 -2.670985e+01 -2.910599e+01 -2.771948e+01   \n",
       "25%   -1.195078e+00 -5.416575e-01 -1.119797e+00 -5.559593e-01 -7.692585e-01   \n",
       "50%    5.893835e-02  4.448018e-02 -4.589760e-02  2.133087e-02  3.154492e-03   \n",
       "75%    1.105186e+00  6.024013e-01  1.297714e+00  6.022882e-01  8.220335e-01   \n",
       "max    2.430129e+01  2.941263e+01  2.152692e+01  2.779965e+01  1.851866e+01   \n",
       "\n",
       "           ...                C32           C33           C34           C35  \\\n",
       "count      ...       1.150000e+04  1.150000e+04  1.150000e+04  1.150000e+04   \n",
       "mean       ...      -1.652171e-12 -4.173891e-12  1.173905e-11 -6.347833e-12   \n",
       "std        ...       1.523592e+00  1.494276e+00  1.426197e+00  1.394516e+00   \n",
       "min        ...      -1.691875e+01 -1.909063e+01 -2.000258e+01 -2.052583e+01   \n",
       "25%        ...      -2.959082e-01 -3.257292e-01 -2.439990e-01 -2.225208e-01   \n",
       "50%        ...      -9.244097e-03  3.115520e-03  4.969701e-03 -7.965000e-06   \n",
       "75%        ...       2.850805e-01  3.367179e-01  2.530717e-01  2.298445e-01   \n",
       "max        ...       1.835334e+01  1.307752e+01  2.047965e+01  1.507628e+01   \n",
       "\n",
       "                C36           C37           C38           C39           C40  \\\n",
       "count  1.150000e+04  1.150000e+04  1.150000e+04  1.150000e+04  1.150000e+04   \n",
       "mean   1.304373e-12 -1.043481e-12 -3.477762e-13 -5.826096e-12 -1.391326e-12   \n",
       "std    1.307136e+00  1.196906e+00  1.096569e+00  1.060631e+00  9.868954e-01   \n",
       "min   -1.756679e+01 -1.296933e+01 -1.792661e+01 -1.304413e+01 -1.382890e+01   \n",
       "25%   -2.130407e-01 -2.056905e-01 -1.524571e-01 -1.669737e-01 -1.692109e-01   \n",
       "50%    5.860565e-03  1.184232e-02  2.377661e-02  3.130946e-03 -1.272622e-02   \n",
       "75%    2.191603e-01  2.226151e-01  1.977843e-01  1.704705e-01  1.487752e-01   \n",
       "max    2.191991e+01  2.045523e+01  1.277478e+01  1.234410e+01  1.361299e+01   \n",
       "\n",
       "                  y  \n",
       "count  11500.000000  \n",
       "mean       3.000000  \n",
       "std        1.414275  \n",
       "min        1.000000  \n",
       "25%        2.000000  \n",
       "50%        3.000000  \n",
       "75%        4.000000  \n",
       "max        5.000000  \n",
       "\n",
       "[8 rows x 41 columns]"
      ]
     },
     "execution_count": 36,
     "metadata": {},
     "output_type": "execute_result"
    }
   ],
   "source": [
    "eeg_pca.describe()"
   ]
  },
  {
   "cell_type": "code",
   "execution_count": 46,
   "metadata": {},
   "outputs": [],
   "source": [
    "Class = list(eeg_pca.pop('y'))"
   ]
  },
  {
   "cell_type": "code",
   "execution_count": 47,
   "metadata": {},
   "outputs": [],
   "source": [
    "samples = eeg_pca.values"
   ]
  },
  {
   "cell_type": "code",
   "execution_count": 39,
   "metadata": {},
   "outputs": [
    {
     "data": {
      "text/plain": [
       "<matplotlib.collections.PathCollection at 0x19b76c67cc0>"
      ]
     },
     "execution_count": 39,
     "metadata": {},
     "output_type": "execute_result"
    },
    {
     "data": {
      "image/png": "[encoded data removed]",
      "text/plain": [
       "<matplotlib.figure.Figure at 0x19b76530c18>"
      ]
     },
     "metadata": {},
     "output_type": "display_data"
    }
   ],
   "source": [
    "plt.scatter(samples[:,0],samples[:,39],c=Class,cmap='rainbow')"
   ]
  },
  {
   "cell_type": "code",
   "execution_count": 40,
   "metadata": {
    "collapsed": true
   },
   "outputs": [],
   "source": [
    "from sklearn.model_selection import train_test_split"
   ]
  },
  {
   "cell_type": "code",
   "execution_count": 41,
   "metadata": {
    "collapsed": true
   },
   "outputs": [],
   "source": [
    "samples_train, samples_test, Class_train, Class_test = train_test_split( samples, Class, test_size = 0.3, random_state = 100)"
   ]
  },
  {
   "cell_type": "code",
   "execution_count": 48,
   "metadata": {
    "collapsed": true
   },
   "outputs": [],
   "source": [
    "from sklearn.tree import DecisionTreeClassifier"
   ]
  },
  {
   "cell_type": "code",
   "execution_count": 49,
   "metadata": {
    "collapsed": true
   },
   "outputs": [],
   "source": [
    "dtree = DecisionTreeClassifier()"
   ]
  },
  {
   "cell_type": "code",
   "execution_count": 50,
   "metadata": {},
   "outputs": [
    {
     "data": {
      "text/plain": [
       "DecisionTreeClassifier(class_weight=None, criterion='gini', max_depth=None,\n",
       "            max_features=None, max_leaf_nodes=None,\n",
       "            min_impurity_decrease=0.0, min_impurity_split=None,\n",
       "            min_samples_leaf=1, min_samples_split=2,\n",
       "            min_weight_fraction_leaf=0.0, presort=False, random_state=None,\n",
       "            splitter='best')"
      ]
     },
     "execution_count": 50,
     "metadata": {},
     "output_type": "execute_result"
    }
   ],
   "source": [
    "dtree.fit(samples_train, Class_train)"
   ]
  },
  {
   "cell_type": "code",
   "execution_count": 51,
   "metadata": {
    "collapsed": true
   },
   "outputs": [],
   "source": [
    "predictions = dtree.predict(samples_test)"
   ]
  },
  {
   "cell_type": "code",
   "execution_count": 52,
   "metadata": {},
   "outputs": [
    {
     "data": {
      "text/plain": [
       "array([2, 1, 1, ..., 5, 5, 2], dtype=int64)"
      ]
     },
     "execution_count": 52,
     "metadata": {},
     "output_type": "execute_result"
    }
   ],
   "source": [
    "predictions"
   ]
  },
  {
   "cell_type": "code",
   "execution_count": 53,
   "metadata": {
    "collapsed": true
   },
   "outputs": [],
   "source": [
    "from sklearn.metrics import classification_report,confusion_matrix"
   ]
  },
  {
   "cell_type": "code",
   "execution_count": 96,
   "metadata": {},
   "outputs": [],
   "source": [
    "cm = confusion_matrix(Class_test,predictions, labels = [1, 2, 3, 4, 5])"
   ]
  },
  {
   "cell_type": "code",
   "execution_count": 97,
   "metadata": {},
   "outputs": [
    {
     "name": "stdout",
     "output_type": "stream",
     "text": [
      "[[547  62  23  41  18]\n",
      " [ 45 302 194  40  86]\n",
      " [ 10 211 312  61 117]\n",
      " [ 39  60  46 378 171]\n",
      " [  2 101  99 158 327]]\n"
     ]
    }
   ],
   "source": [
    "print(cm)"
   ]
  },
  {
   "cell_type": "code",
   "execution_count": 98,
   "metadata": {},
   "outputs": [
    {
     "data": {
      "image/png": "[encoded data removed]",
      "text/plain": [
       "<matplotlib.figure.Figure at 0x19b780ffa90>"
      ]
     },
     "metadata": {},
     "output_type": "display_data"
    }
   ],
   "source": [
    "pl.matshow(cm)\n",
    "pl.colorbar()\n",
    "pl.show()"
   ]
  },
  {
   "cell_type": "code",
   "execution_count": 99,
   "metadata": {
    "collapsed": true
   },
   "outputs": [],
   "source": [
    "TP_1 = cm[0, 0] # Class 1 predicted as Class 1: Epileptic\n",
    "TP_2 = cm[1, 1] # Class 2 predicted as Class 2: Probe at epileptic zone\n",
    "TP_3 = cm[2, 2] # Class 3 predicted as Class 3: Probe at ealthy zone\n",
    "TP_4 = cm[3, 3] # Class 4 predicted a Class 4: Eyes closed\n",
    "TP_5 = cm[4, 4] # Class 5 predicted as Class 5: Eyes open"
   ]
  },
  {
   "cell_type": "code",
   "execution_count": 100,
   "metadata": {},
   "outputs": [
    {
     "data": {
      "text/plain": [
       "(547, 302, 312, 378, 327)"
      ]
     },
     "execution_count": 100,
     "metadata": {},
     "output_type": "execute_result"
    }
   ],
   "source": [
    "TP_1, TP_2, TP_3, TP_4, TP_5"
   ]
  },
  {
   "cell_type": "code",
   "execution_count": 101,
   "metadata": {},
   "outputs": [
    {
     "data": {
      "text/plain": [
       "1866"
      ]
     },
     "execution_count": 101,
     "metadata": {},
     "output_type": "execute_result"
    }
   ],
   "source": [
    "TP = TP_1+TP_2+TP_3+TP_4+TP_5\n",
    "TP"
   ]
  },
  {
   "cell_type": "code",
   "execution_count": 113,
   "metadata": {},
   "outputs": [
    {
     "data": {
      "text/plain": [
       "3450"
      ]
     },
     "execution_count": 113,
     "metadata": {},
     "output_type": "execute_result"
    }
   ],
   "source": [
    "len(samples_test) : # total instances = 11500"
   ]
  },
  {
   "cell_type": "code",
   "execution_count": 102,
   "metadata": {},
   "outputs": [
    {
     "data": {
      "text/plain": [
       "0.54086956521739127"
      ]
     },
     "execution_count": 102,
     "metadata": {},
     "output_type": "execute_result"
    }
   ],
   "source": [
    "Accuracy = TP/(len(samples_test))\n",
    "Accuracy"
   ]
  },
  {
   "cell_type": "code",
   "execution_count": 103,
   "metadata": {
    "collapsed": true
   },
   "outputs": [],
   "source": [
    "from __future__ import print_function"
   ]
  },
  {
   "cell_type": "code",
   "execution_count": 104,
   "metadata": {},
   "outputs": [
    {
     "name": "stdout",
     "output_type": "stream",
     "text": [
      "0.540869565217\n"
     ]
    }
   ],
   "source": [
    "# Overall accuracy\n",
    "from sklearn import metrics\n",
    "print(metrics.accuracy_score(Class_test, predictions))\n",
    "# overall prediction accuracy 54%"
   ]
  },
  {
   "cell_type": "code",
   "execution_count": 107,
   "metadata": {},
   "outputs": [
    {
     "data": {
      "text/plain": [
       "144"
      ]
     },
     "execution_count": 107,
     "metadata": {},
     "output_type": "execute_result"
    }
   ],
   "source": [
    "FP = (cm[0,1]+cm[0,2]+cm[0,3]+cm[0,4]) # for Class 1 epileptic\n",
    "FP"
   ]
  },
  {
   "cell_type": "code",
   "execution_count": 108,
   "metadata": {},
   "outputs": [
    {
     "data": {
      "text/plain": [
       "96"
      ]
     },
     "execution_count": 108,
     "metadata": {},
     "output_type": "execute_result"
    }
   ],
   "source": [
    "FN = cm[1,0]+cm[2,0]+cm[3,0]+cm[4,0] # for Class 1 epileptic\n",
    "FN"
   ]
  },
  {
   "cell_type": "code",
   "execution_count": 111,
   "metadata": {},
   "outputs": [
    {
     "data": {
      "text/plain": [
       "0.95107033639143734"
      ]
     },
     "execution_count": 111,
     "metadata": {},
     "output_type": "execute_result"
    }
   ],
   "source": [
    "# sensitivity for Class 1 prediction\n",
    "TP/(TP+FN)"
   ]
  },
  {
   "cell_type": "code",
   "execution_count": null,
   "metadata": {
    "collapsed": true
   },
   "outputs": [],
   "source": [
    "# prediction sensitivity for epileptic class : 95%"
   ]
  },
  {
   "cell_type": "code",
   "execution_count": 110,
   "metadata": {},
   "outputs": [
    {
     "data": {
      "text/plain": [
       "0.92835820895522392"
      ]
     },
     "execution_count": 110,
     "metadata": {},
     "output_type": "execute_result"
    }
   ],
   "source": [
    "# selectivity towards Class 1 prediction\n",
    "TP/(TP+FP)"
   ]
  },
  {
   "cell_type": "code",
   "execution_count": null,
   "metadata": {
    "collapsed": true
   },
   "outputs": [],
   "source": [
    "# prediction selectivity for epileptic class : 92%"
   ]
  },
  {
   "cell_type": "code",
   "execution_count": null,
   "metadata": {
    "collapsed": true
   },
   "outputs": [],
   "source": [
    "# KNN Classification Investigation"
   ]
  },
  {
   "cell_type": "code",
   "execution_count": 116,
   "metadata": {},
   "outputs": [],
   "source": [
    "# KNN on 10 folds cross validation on the dataset\n",
    "from sklearn.cross_validation import KFold\n",
    "from sklearn.neighbors import KNeighborsClassifier\n",
    "from sklearn.model_selection import cross_val_score"
   ]
  },
  {
   "cell_type": "code",
   "execution_count": 120,
   "metadata": {},
   "outputs": [
    {
     "name": "stdout",
     "output_type": "stream",
     "text": [
      "The K is:  1\n",
      "0.571652173913\n",
      "The K is:  2\n",
      "0.524782608696\n",
      "The K is:  3\n",
      "0.515826086957\n",
      "The K is:  4\n",
      "0.513304347826\n",
      "The K is:  5\n",
      "0.502956521739\n",
      "The K is:  6\n",
      "0.493304347826\n",
      "The K is:  7\n",
      "0.485304347826\n",
      "The K is:  8\n",
      "0.478173913043\n",
      "The K is:  9\n",
      "0.476\n",
      "The K is:  10\n",
      "0.469043478261\n",
      "The K is:  11\n",
      "0.463391304348\n",
      "The K is:  12\n",
      "0.461130434783\n",
      "The K is:  13\n",
      "0.459652173913\n",
      "The K is:  14\n",
      "0.454260869565\n",
      "The K is:  15\n",
      "0.452608695652\n",
      "The K is:  16\n",
      "0.445913043478\n",
      "The K is:  17\n",
      "0.444260869565\n",
      "The K is:  18\n",
      "0.441739130435\n",
      "The K is:  19\n",
      "0.439913043478\n",
      "The K is:  20\n",
      "0.434695652174\n",
      "The K is:  21\n",
      "0.432869565217\n",
      "The K is:  22\n",
      "0.430782608696\n",
      "The K is:  23\n",
      "0.427304347826\n",
      "The K is:  24\n",
      "0.423391304348\n",
      "The K is:  25\n",
      "0.423217391304\n",
      "The K is:  26\n",
      "0.423739130435\n",
      "The K is:  27\n",
      "0.422086956522\n",
      "The K is:  28\n",
      "0.418173913043\n",
      "The K is:  29\n",
      "0.416434782609\n",
      "The K is:  30\n",
      "0.414086956522\n",
      "[0.57165217391304346, 0.52478260869565219, 0.51582608695652177, 0.51330434782608703, 0.50295652173913041, 0.49330434782608706, 0.48530434782608695, 0.47817391304347828, 0.47599999999999998, 0.46904347826086956, 0.46339130434782605, 0.46113043478260868, 0.45965217391304353, 0.45426086956521738, 0.45260869565217393, 0.44591304347826088, 0.44426086956521738, 0.44173913043478263, 0.43991304347826093, 0.43469565217391304, 0.43286956521739128, 0.43078260869565216, 0.42730434782608695, 0.42339130434782601, 0.42321739130434788, 0.42373913043478256, 0.42208695652173917, 0.41817391304347823, 0.41643478260869565, 0.41408695652173916]\n"
     ]
    }
   ],
   "source": [
    "k_range = list(range(1, 31))\n",
    "k_scores = []\n",
    "for k in k_range:\n",
    "    print(\"The K is: \", k)\n",
    "    knn = KNeighborsClassifier(n_neighbors=k)\n",
    "    scores = cross_val_score(knn, samples, Class, cv=10, scoring='accuracy')\n",
    "    print(scores.mean())\n",
    "    k_scores.append(scores.mean())\n",
    "print(k_scores)"
   ]
  },
  {
   "cell_type": "code",
   "execution_count": 123,
   "metadata": {},
   "outputs": [
    {
     "data": {
      "text/plain": [
       "Text(0,0.5,'Cross-Validated Accuracy')"
      ]
     },
     "execution_count": 123,
     "metadata": {},
     "output_type": "execute_result"
    },
    {
     "data": {
      "image/png": "[encoded data removed]",
      "text/plain": [
       "<matplotlib.figure.Figure at 0x19b7814de48>"
      ]
     },
     "metadata": {},
     "output_type": "display_data"
    }
   ],
   "source": [
    "K_range = list(range(1,31))\n",
    "plt.plot(k_range, k_scores)\n",
    "plt.xlabel('Value of K for KNN')\n",
    "plt.ylabel('Cross-Validated Accuracy')"
   ]
  },
  {
   "cell_type": "code",
   "execution_count": null,
   "metadata": {
    "collapsed": true
   },
   "outputs": [],
   "source": []
  }
 ],
 "metadata": {
  "kernelspec": {
   "display_name": "Python 3",
   "language": "python",
   "name": "python3"
  },
  "language_info": {
   "codemirror_mode": {
    "name": "ipython",
    "version": 3
   },
   "file_extension": ".py",
   "mimetype": "text/x-python",
   "name": "python",
   "nbconvert_exporter": "python",
   "pygments_lexer": "ipython3",
   "version": "3.6.3"
  }
 },
 "nbformat": 4,
 "nbformat_minor": 2
}
