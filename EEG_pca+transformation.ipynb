{
 "cells": [
  {
   "cell_type": "code",
   "execution_count": 161,
   "metadata": {
    "collapsed": true
   },
   "outputs": [],
   "source": [
    "## Principal components calculations of EEG original data \n",
    "## Decision Tree and KNN with transformed data\n",
    "\n",
    "import numpy as np\n",
    "import pandas as pd\n",
    "from sklearn import decomposition\n",
    "from sklearn.decomposition import PCA\n",
    "from sklearn.preprocessing import scale\n",
    "import matplotlib.pyplot as plt\n",
    "%matplotlib inline"
   ]
  },
  {
   "cell_type": "code",
   "execution_count": 43,
   "metadata": {
    "collapsed": true
   },
   "outputs": [],
   "source": [
    "eeg = pd.read_csv('EEG_data_1.csv')"
   ]
  },
  {
   "cell_type": "code",
   "execution_count": 44,
   "metadata": {},
   "outputs": [
    {
     "name": "stdout",
     "output_type": "stream",
     "text": [
      "<class 'pandas.core.frame.DataFrame'>\n",
      "RangeIndex: 11500 entries, 0 to 11499\n",
      "Columns: 179 entries, X1 to y\n",
      "dtypes: int64(179)\n",
      "memory usage: 15.7 MB\n"
     ]
    }
   ],
   "source": [
    "eeg.info()"
   ]
  },
  {
   "cell_type": "code",
   "execution_count": 46,
   "metadata": {
    "collapsed": true
   },
   "outputs": [],
   "source": [
    "Y = list(eeg.pop('y'))"
   ]
  },
  {
   "cell_type": "code",
   "execution_count": 55,
   "metadata": {
    "collapsed": true
   },
   "outputs": [],
   "source": [
    "X = eeg.values"
   ]
  },
  {
   "cell_type": "code",
   "execution_count": 56,
   "metadata": {},
   "outputs": [
    {
     "data": {
      "text/plain": [
       "array([[ 135,  190,  229, ..., -116,  -83,  -51],\n",
       "       [ 386,  382,  356, ...,  154,  143,  129],\n",
       "       [ -32,  -39,  -47, ...,  -35,  -35,  -36],\n",
       "       ..., \n",
       "       [  14,    6,  -13, ...,   -2,   -1,   -8],\n",
       "       [ -40,  -25,   -9, ...,   68,   59,   55],\n",
       "       [  29,   41,   57, ...,   -2,    2,   20]], dtype=int64)"
      ]
     },
     "execution_count": 56,
     "metadata": {},
     "output_type": "execute_result"
    }
   ],
   "source": [
    "X"
   ]
  },
  {
   "cell_type": "code",
   "execution_count": 108,
   "metadata": {
    "collapsed": true
   },
   "outputs": [],
   "source": [
    "pca1 = PCA(n_components=80)"
   ]
  },
  {
   "cell_type": "code",
   "execution_count": 109,
   "metadata": {},
   "outputs": [
    {
     "data": {
      "text/plain": [
       "PCA(copy=True, iterated_power='auto', n_components=80, random_state=None,\n",
       "  svd_solver='auto', tol=0.0, whiten=False)"
      ]
     },
     "execution_count": 109,
     "metadata": {},
     "output_type": "execute_result"
    }
   ],
   "source": [
    "pca1.fit(X)"
   ]
  },
  {
   "cell_type": "code",
   "execution_count": 110,
   "metadata": {
    "collapsed": true
   },
   "outputs": [],
   "source": [
    "var= pca1.explained_variance_ratio_"
   ]
  },
  {
   "cell_type": "code",
   "execution_count": 156,
   "metadata": {
    "collapsed": true
   },
   "outputs": [],
   "source": [
    "var1=np.cumsum(np.round(pca1.explained_variance_ratio_, decimals=4)*100)"
   ]
  },
  {
   "cell_type": "code",
   "execution_count": 157,
   "metadata": {},
   "outputs": [
    {
     "name": "stdout",
     "output_type": "stream",
     "text": [
      "[  5.59  10.85  15.8   20.62  25.06  29.2   33.27  37.19  40.81  44.26\n",
      "  47.56  50.8   53.77  56.69  59.26  61.64  63.8   65.87  67.89  69.83\n",
      "  71.76  73.59  75.36  77.1   78.74  80.36  81.86  83.32  84.75  86.15\n",
      "  87.51  88.8   90.04  91.18  92.26  93.23  94.03  94.71  95.35  95.89\n",
      "  96.36  96.79  97.17  97.48  97.74  97.97  98.18  98.36  98.53  98.68\n",
      "  98.8   98.91  99.01  99.1   99.18  99.25  99.32  99.38  99.43  99.48\n",
      "  99.53  99.57  99.61  99.64  99.67  99.7   99.72  99.74  99.76  99.78\n",
      "  99.8   99.81  99.82  99.83  99.84  99.85  99.86  99.87  99.88  99.89]\n"
     ]
    }
   ],
   "source": [
    "print(var1)"
   ]
  },
  {
   "cell_type": "code",
   "execution_count": 158,
   "metadata": {},
   "outputs": [
    {
     "data": {
      "text/plain": [
       "[<matplotlib.lines.Line2D at 0x2219da5e8d0>]"
      ]
     },
     "execution_count": 158,
     "metadata": {},
     "output_type": "execute_result"
    },
    {
     "data": {
      "image/png": "[encoded data removed]",
      "text/plain": [
       "<matplotlib.figure.Figure at 0x2219b624668>"
      ]
     },
     "metadata": {},
     "output_type": "display_data"
    }
   ],
   "source": [
    "plt.plot(var1)"
   ]
  },
  {
   "cell_type": "code",
   "execution_count": 122,
   "metadata": {
    "collapsed": true
   },
   "outputs": [],
   "source": [
    "# The components saturate closely from 45 components onwards\n",
    "# Therefore a 50 components is a good number of features\n",
    "pca2 = PCA(n_components=50)"
   ]
  },
  {
   "cell_type": "code",
   "execution_count": 123,
   "metadata": {},
   "outputs": [
    {
     "data": {
      "text/plain": [
       "PCA(copy=True, iterated_power='auto', n_components=50, random_state=None,\n",
       "  svd_solver='auto', tol=0.0, whiten=False)"
      ]
     },
     "execution_count": 123,
     "metadata": {},
     "output_type": "execute_result"
    }
   ],
   "source": [
    "pca2.fit(X)"
   ]
  },
  {
   "cell_type": "code",
   "execution_count": 124,
   "metadata": {
    "collapsed": true
   },
   "outputs": [],
   "source": [
    "var2= pca2.explained_variance_ratio_"
   ]
  },
  {
   "cell_type": "code",
   "execution_count": 125,
   "metadata": {
    "collapsed": true
   },
   "outputs": [],
   "source": [
    "var3=np.cumsum(np.round(pca2.explained_variance_ratio_, decimals=4)*100)"
   ]
  },
  {
   "cell_type": "code",
   "execution_count": 127,
   "metadata": {},
   "outputs": [
    {
     "data": {
      "text/plain": [
       "[<matplotlib.lines.Line2D at 0x2219b4fde10>]"
      ]
     },
     "execution_count": 127,
     "metadata": {},
     "output_type": "execute_result"
    },
    {
     "data": {
      "image/png": "[encoded data removed]",
      "text/plain": [
       "<matplotlib.figure.Figure at 0x22199064470>"
      ]
     },
     "metadata": {},
     "output_type": "display_data"
    }
   ],
   "source": [
    "plt.plot(var3)"
   ]
  },
  {
   "cell_type": "code",
   "execution_count": 128,
   "metadata": {
    "collapsed": true
   },
   "outputs": [],
   "source": [
    "X1 = pca2.fit_transform(X)"
   ]
  },
  {
   "cell_type": "code",
   "execution_count": 129,
   "metadata": {},
   "outputs": [
    {
     "name": "stdout",
     "output_type": "stream",
     "text": [
      "[[ -91.35344893 -184.25167328  115.33345461 ...,   35.69674877\n",
      "  -104.41681141  -31.26725045]\n",
      " [-313.2523945  -474.85219354  966.01758398 ..., -374.03591681\n",
      "  -427.37445002   64.52738236]\n",
      " [  91.07491158  -42.21800705  121.63861567 ...,  -30.55575649  -11.6963382\n",
      "    22.74729696]\n",
      " ..., \n",
      " [ -51.29434164  -22.08693111  -36.43180564 ...,   54.6193354    63.35367743\n",
      "     4.8573509 ]\n",
      " [ -45.4683138  -176.95550753  110.65263584 ...,   14.94507961  -19.4987104\n",
      "   -52.619663  ]\n",
      " [  19.41441016   48.07835864   46.49537156 ...,   33.45827371\n",
      "   -10.90469002  -61.17389694]]\n"
     ]
    }
   ],
   "source": [
    "# Transformed data\n",
    "print(X1)"
   ]
  },
  {
   "cell_type": "code",
   "execution_count": 146,
   "metadata": {},
   "outputs": [
    {
     "data": {
      "text/plain": [
       "(11500, 50)"
      ]
     },
     "execution_count": 146,
     "metadata": {},
     "output_type": "execute_result"
    }
   ],
   "source": [
    "X1.shape"
   ]
  },
  {
   "cell_type": "code",
   "execution_count": 131,
   "metadata": {},
   "outputs": [
    {
     "data": {
      "text/plain": [
       "<matplotlib.collections.PathCollection at 0x2219b57e550>"
      ]
     },
     "execution_count": 131,
     "metadata": {},
     "output_type": "execute_result"
    },
    {
     "data": {
      "image/png": "[encoded data removed]",
      "text/plain": [
       "<matplotlib.figure.Figure at 0x2219b51bac8>"
      ]
     },
     "metadata": {},
     "output_type": "display_data"
    }
   ],
   "source": [
    "# Visualization of the transformed data\n",
    "plt.scatter(X1[:,0],X1[:,49],c=Y,cmap='rainbow')"
   ]
  },
  {
   "cell_type": "code",
   "execution_count": 132,
   "metadata": {
    "collapsed": true
   },
   "outputs": [],
   "source": [
    "from sklearn.model_selection import train_test_split"
   ]
  },
  {
   "cell_type": "code",
   "execution_count": 133,
   "metadata": {
    "collapsed": true
   },
   "outputs": [],
   "source": [
    "X1_train, X1_test, Y_train, Y_test = train_test_split(X1, Y, test_size = 0.3, random_state = 100)"
   ]
  },
  {
   "cell_type": "code",
   "execution_count": 134,
   "metadata": {
    "collapsed": true
   },
   "outputs": [],
   "source": [
    "from sklearn.tree import DecisionTreeClassifier"
   ]
  },
  {
   "cell_type": "code",
   "execution_count": 135,
   "metadata": {
    "collapsed": true
   },
   "outputs": [],
   "source": [
    "dtree = DecisionTreeClassifier()"
   ]
  },
  {
   "cell_type": "code",
   "execution_count": 136,
   "metadata": {},
   "outputs": [
    {
     "data": {
      "text/plain": [
       "DecisionTreeClassifier(class_weight=None, criterion='gini', max_depth=None,\n",
       "            max_features=None, max_leaf_nodes=None,\n",
       "            min_impurity_decrease=0.0, min_impurity_split=None,\n",
       "            min_samples_leaf=1, min_samples_split=2,\n",
       "            min_weight_fraction_leaf=0.0, presort=False, random_state=None,\n",
       "            splitter='best')"
      ]
     },
     "execution_count": 136,
     "metadata": {},
     "output_type": "execute_result"
    }
   ],
   "source": [
    "dtree.fit(X1_train, Y_train)"
   ]
  },
  {
   "cell_type": "code",
   "execution_count": 137,
   "metadata": {
    "collapsed": true
   },
   "outputs": [],
   "source": [
    "predictions = dtree.predict(X1_test)"
   ]
  },
  {
   "cell_type": "code",
   "execution_count": 138,
   "metadata": {},
   "outputs": [
    {
     "data": {
      "text/plain": [
       "array([3, 4, 1, ..., 4, 5, 1], dtype=int64)"
      ]
     },
     "execution_count": 138,
     "metadata": {},
     "output_type": "execute_result"
    }
   ],
   "source": [
    "predictions"
   ]
  },
  {
   "cell_type": "code",
   "execution_count": 139,
   "metadata": {
    "collapsed": true
   },
   "outputs": [],
   "source": [
    "from sklearn.metrics import classification_report,confusion_matrix"
   ]
  },
  {
   "cell_type": "code",
   "execution_count": 142,
   "metadata": {
    "collapsed": true
   },
   "outputs": [],
   "source": [
    "cm = confusion_matrix(Y_test,predictions, labels = [1, 2, 3, 4, 5])"
   ]
  },
  {
   "cell_type": "code",
   "execution_count": 147,
   "metadata": {},
   "outputs": [
    {
     "name": "stdout",
     "output_type": "stream",
     "text": [
      "[[551  56  34  36  14]\n",
      " [ 36 280 222  51  78]\n",
      " [ 10 219 333  43 106]\n",
      " [ 20  53  59 400 162]\n",
      " [  8  93  93 180 313]]\n"
     ]
    }
   ],
   "source": [
    "print(cm)"
   ]
  },
  {
   "cell_type": "code",
   "execution_count": 148,
   "metadata": {},
   "outputs": [
    {
     "data": {
      "image/png": "[encoded data removed]",
      "text/plain": [
       "<matplotlib.figure.Figure at 0x2219b615ac8>"
      ]
     },
     "metadata": {},
     "output_type": "display_data"
    }
   ],
   "source": [
    "plt.matshow(cm)\n",
    "plt.colorbar()\n",
    "plt.show()"
   ]
  },
  {
   "cell_type": "code",
   "execution_count": 150,
   "metadata": {},
   "outputs": [
    {
     "name": "stdout",
     "output_type": "stream",
     "text": [
      "0.544057971014\n"
     ]
    }
   ],
   "source": [
    "from __future__ import print_function\n",
    "from sklearn import metrics\n",
    "print(metrics.accuracy_score(Y_test, predictions))"
   ]
  },
  {
   "cell_type": "code",
   "execution_count": 153,
   "metadata": {
    "collapsed": true
   },
   "outputs": [],
   "source": [
    "# KNN classification with 10 folds cross validation on principal components\n",
    "from sklearn.cross_validation import KFold\n",
    "from sklearn.neighbors import KNeighborsClassifier\n",
    "from sklearn.model_selection import cross_val_score"
   ]
  },
  {
   "cell_type": "code",
   "execution_count": 154,
   "metadata": {},
   "outputs": [
    {
     "name": "stdout",
     "output_type": "stream",
     "text": [
      "The K is:  1\n",
      "0.561826086957\n",
      "The K is:  2\n",
      "0.515652173913\n",
      "The K is:  3\n",
      "0.504\n",
      "The K is:  4\n",
      "0.497739130435\n",
      "The K is:  5\n",
      "0.49\n",
      "The K is:  6\n",
      "0.480260869565\n",
      "The K is:  7\n",
      "0.470173913043\n",
      "The K is:  8\n",
      "0.463391304348\n",
      "The K is:  9\n",
      "0.459826086957\n",
      "The K is:  10\n",
      "0.452434782609\n",
      "The K is:  11\n",
      "0.449217391304\n",
      "The K is:  12\n",
      "0.443826086957\n",
      "The K is:  13\n",
      "0.442782608696\n",
      "The K is:  14\n",
      "0.44052173913\n",
      "The K is:  15\n",
      "0.44252173913\n",
      "The K is:  16\n",
      "0.435565217391\n",
      "The K is:  17\n",
      "0.433391304348\n",
      "The K is:  18\n",
      "0.432869565217\n",
      "The K is:  19\n",
      "0.429043478261\n",
      "The K is:  20\n",
      "0.422956521739\n",
      "The K is:  21\n",
      "0.421652173913\n",
      "The K is:  22\n",
      "0.419391304348\n",
      "The K is:  23\n",
      "0.414869565217\n",
      "The K is:  24\n",
      "0.414956521739\n",
      "The K is:  25\n",
      "0.412260869565\n",
      "The K is:  26\n",
      "0.410434782609\n",
      "The K is:  27\n",
      "0.40852173913\n",
      "The K is:  28\n",
      "0.406869565217\n",
      "The K is:  29\n",
      "0.40652173913\n",
      "The K is:  30\n",
      "0.402608695652\n",
      "[0.5618260869565217, 0.51565217391304352, 0.504, 0.49773913043478257, 0.48999999999999994, 0.48026086956521735, 0.47017391304347828, 0.46339130434782605, 0.45982608695652177, 0.45243478260869568, 0.44921739130434785, 0.4438260869565217, 0.44278260869565222, 0.44052173913043485, 0.4425217391304348, 0.43556521739130433, 0.43339130434782608, 0.43286956521739128, 0.42904347826086953, 0.4229565217391304, 0.42165217391304355, 0.41939130434782601, 0.41486956521739132, 0.41495652173913039, 0.41226086956521735, 0.41043478260869559, 0.40852173913043482, 0.4068695652173912, 0.40652173913043477, 0.40260869565217394]\n"
     ]
    }
   ],
   "source": [
    "k_range = list(range(1, 31))\n",
    "k_scores = []\n",
    "for k in k_range:\n",
    "    print(\"The K is: \", k)\n",
    "    knn = KNeighborsClassifier(n_neighbors=k)\n",
    "    scores = cross_val_score(knn, X1, Y, cv=10, scoring='accuracy')\n",
    "    print(scores.mean())\n",
    "    k_scores.append(scores.mean())\n",
    "print(k_scores)"
   ]
  },
  {
   "cell_type": "code",
   "execution_count": 155,
   "metadata": {},
   "outputs": [
    {
     "data": {
      "text/plain": [
       "Text(0,0.5,'Cross-Validated Accuracy')"
      ]
     },
     "execution_count": 155,
     "metadata": {},
     "output_type": "execute_result"
    },
    {
     "data": {
      "image/png": "[encoded data removed]",
      "text/plain": [
       "<matplotlib.figure.Figure at 0x2219b624f28>"
      ]
     },
     "metadata": {},
     "output_type": "display_data"
    }
   ],
   "source": [
    "K_range = list(range(1,31))\n",
    "plt.plot(k_range, k_scores)\n",
    "plt.xlabel('Value of K for KNN')\n",
    "plt.ylabel('Cross-Validated Accuracy')"
   ]
  },
  {
   "cell_type": "code",
   "execution_count": null,
   "metadata": {
    "collapsed": true
   },
   "outputs": [],
   "source": [
    "# Comments: Results are not very different from that done on PCA scores in R"
   ]
  },
  {
   "cell_type": "code",
   "execution_count": 159,
   "metadata": {
    "collapsed": true
   },
   "outputs": [],
   "source": [
    "## KNN on selected features obtained by Logistic regression on original data\n",
    "eeg_s = pd.read_csv('eeg_select.csv')"
   ]
  },
  {
   "cell_type": "code",
   "execution_count": 160,
   "metadata": {},
   "outputs": [
    {
     "name": "stdout",
     "output_type": "stream",
     "text": [
      "<class 'pandas.core.frame.DataFrame'>\n",
      "RangeIndex: 11500 entries, 0 to 11499\n",
      "Data columns (total 11 columns):\n",
      "X4      11500 non-null int64\n",
      "X7      11500 non-null int64\n",
      "X9      11500 non-null int64\n",
      "X10     11500 non-null int64\n",
      "X23     11500 non-null int64\n",
      "X24     11500 non-null int64\n",
      "X26     11500 non-null int64\n",
      "X99     11500 non-null int64\n",
      "X100    11500 non-null int64\n",
      "X102    11500 non-null int64\n",
      "y       11500 non-null int64\n",
      "dtypes: int64(11)\n",
      "memory usage: 988.4 KB\n"
     ]
    }
   ],
   "source": [
    "eeg_s.info()"
   ]
  },
  {
   "cell_type": "code",
   "execution_count": 163,
   "metadata": {},
   "outputs": [],
   "source": [
    "Y_s = list(eeg_s.pop('y'))"
   ]
  },
  {
   "cell_type": "code",
   "execution_count": 164,
   "metadata": {
    "collapsed": true
   },
   "outputs": [],
   "source": [
    "X_s = eeg_s.values"
   ]
  },
  {
   "cell_type": "code",
   "execution_count": 165,
   "metadata": {},
   "outputs": [
    {
     "name": "stdout",
     "output_type": "stream",
     "text": [
      "The K is:  1\n",
      "0.449913043478\n",
      "The K is:  2\n",
      "0.432869565217\n",
      "The K is:  3\n",
      "0.43947826087\n",
      "The K is:  4\n",
      "0.450173913043\n",
      "The K is:  5\n",
      "0.452608695652\n",
      "The K is:  6\n",
      "0.452173913043\n",
      "The K is:  7\n",
      "0.458347826087\n",
      "The K is:  8\n",
      "0.45747826087\n",
      "The K is:  9\n",
      "0.458434782609\n",
      "The K is:  10\n",
      "0.45652173913\n",
      "The K is:  11\n",
      "0.457217391304\n",
      "The K is:  12\n",
      "0.457217391304\n",
      "The K is:  13\n",
      "0.456695652174\n",
      "The K is:  14\n",
      "0.457217391304\n",
      "The K is:  15\n",
      "0.45947826087\n",
      "The K is:  16\n",
      "0.458782608696\n",
      "The K is:  17\n",
      "0.458782608696\n",
      "The K is:  18\n",
      "0.457391304348\n",
      "The K is:  19\n",
      "0.459217391304\n",
      "The K is:  20\n",
      "0.458173913043\n",
      "The K is:  21\n",
      "0.459739130435\n",
      "The K is:  22\n",
      "0.45852173913\n",
      "The K is:  23\n",
      "0.457826086957\n",
      "The K is:  24\n",
      "0.458347826087\n",
      "The K is:  25\n",
      "0.456\n",
      "The K is:  26\n",
      "0.454608695652\n",
      "The K is:  27\n",
      "0.45747826087\n",
      "The K is:  28\n",
      "0.456782608696\n",
      "The K is:  29\n",
      "0.457304347826\n",
      "The K is:  30\n",
      "0.453652173913\n",
      "[0.44991304347826083, 0.43286956521739128, 0.43947826086956515, 0.45017391304347837, 0.45260869565217393, 0.4521739130434782, 0.45834782608695657, 0.45747826086956522, 0.45843478260869563, 0.45652173913043476, 0.45721739130434774, 0.45721739130434785, 0.45669565217391306, 0.45721739130434785, 0.45947826086956517, 0.45878260869565218, 0.45878260869565218, 0.4573913043478261, 0.4592173913043478, 0.45817391304347826, 0.45973913043478259, 0.4585217391304347, 0.45782608695652172, 0.45834782608695657, 0.45599999999999996, 0.45460869565217388, 0.45747826086956522, 0.45678260869565213, 0.45730434782608703, 0.45365217391304347]\n"
     ]
    }
   ],
   "source": [
    "k_range = list(range(1, 31))\n",
    "k_scores = []\n",
    "for k in k_range:\n",
    "    print(\"The K is: \", k)\n",
    "    knn = KNeighborsClassifier(n_neighbors=k)\n",
    "    scores_s = cross_val_score(knn, X_s, Y_s, cv=10, scoring='accuracy')\n",
    "    print(scores_s.mean())\n",
    "    k_scores.append(scores_s.mean())\n",
    "print(k_scores)"
   ]
  },
  {
   "cell_type": "code",
   "execution_count": 166,
   "metadata": {},
   "outputs": [
    {
     "data": {
      "text/plain": [
       "Text(0,0.5,'Cross-Validated Accuracy')"
      ]
     },
     "execution_count": 166,
     "metadata": {},
     "output_type": "execute_result"
    },
    {
     "data": {
      "image/png": "[encoded data removed]",
      "text/plain": [
       "<matplotlib.figure.Figure at 0x2219da64898>"
      ]
     },
     "metadata": {},
     "output_type": "display_data"
    }
   ],
   "source": [
    "K_range = list(range(1,31))\n",
    "plt.plot(k_range, k_scores)\n",
    "plt.xlabel('Value of K for KNN')\n",
    "plt.ylabel('Cross-Validated Accuracy')"
   ]
  },
  {
   "cell_type": "code",
   "execution_count": 167,
   "metadata": {
    "collapsed": true
   },
   "outputs": [],
   "source": [
    "X_s_train, X_s_test, Y_s_train, Y_s_test = train_test_split(X_s, Y_s, test_size = 0.3, random_state = 100)"
   ]
  },
  {
   "cell_type": "code",
   "execution_count": 168,
   "metadata": {},
   "outputs": [
    {
     "data": {
      "text/plain": [
       "DecisionTreeClassifier(class_weight=None, criterion='gini', max_depth=None,\n",
       "            max_features=None, max_leaf_nodes=None,\n",
       "            min_impurity_decrease=0.0, min_impurity_split=None,\n",
       "            min_samples_leaf=1, min_samples_split=2,\n",
       "            min_weight_fraction_leaf=0.0, presort=False, random_state=None,\n",
       "            splitter='best')"
      ]
     },
     "execution_count": 168,
     "metadata": {},
     "output_type": "execute_result"
    }
   ],
   "source": [
    "dtree.fit(X_s_train, Y_s_train)"
   ]
  },
  {
   "cell_type": "code",
   "execution_count": 169,
   "metadata": {
    "collapsed": true
   },
   "outputs": [],
   "source": [
    "predict = dtree.predict(X_s_test)"
   ]
  },
  {
   "cell_type": "code",
   "execution_count": 170,
   "metadata": {},
   "outputs": [
    {
     "data": {
      "text/plain": [
       "array([2, 2, 1, ..., 3, 3, 1], dtype=int64)"
      ]
     },
     "execution_count": 170,
     "metadata": {},
     "output_type": "execute_result"
    }
   ],
   "source": [
    "predict"
   ]
  },
  {
   "cell_type": "code",
   "execution_count": 171,
   "metadata": {
    "collapsed": true
   },
   "outputs": [],
   "source": [
    "cm_s = confusion_matrix(Y_s_test,predict, labels = [1, 2, 3, 4, 5])"
   ]
  },
  {
   "cell_type": "code",
   "execution_count": 172,
   "metadata": {},
   "outputs": [
    {
     "name": "stdout",
     "output_type": "stream",
     "text": [
      "[[493  78  46  57  17]\n",
      " [ 58 218 163  96 132]\n",
      " [ 30 209 210  89 173]\n",
      " [ 61 107 107 246 173]\n",
      " [ 16 137 149 173 212]]\n"
     ]
    }
   ],
   "source": [
    "print(cm_s)"
   ]
  },
  {
   "cell_type": "code",
   "execution_count": 173,
   "metadata": {},
   "outputs": [
    {
     "data": {
      "image/png": "[encoded data removed]",
      "text/plain": [
       "<matplotlib.figure.Figure at 0x221a0f50e48>"
      ]
     },
     "metadata": {},
     "output_type": "display_data"
    }
   ],
   "source": [
    "plt.matshow(cm_s)\n",
    "plt.colorbar()\n",
    "plt.show()"
   ]
  },
  {
   "cell_type": "code",
   "execution_count": 174,
   "metadata": {},
   "outputs": [
    {
     "name": "stdout",
     "output_type": "stream",
     "text": [
      "0.399710144928\n"
     ]
    }
   ],
   "source": [
    "print(metrics.accuracy_score(Y_s_test, predict))"
   ]
  },
  {
   "cell_type": "code",
   "execution_count": null,
   "metadata": {
    "collapsed": true
   },
   "outputs": [],
   "source": [
    "# comment: PCA transform is better than selected features as features are highly comparable\n",
    "# However, KNN is not a good classifier for the data with all classes together"
   ]
  }
 ],
 "metadata": {
  "kernelspec": {
   "display_name": "Python 3",
   "language": "python",
   "name": "python3"
  },
  "language_info": {
   "codemirror_mode": {
    "name": "ipython",
    "version": 3
   },
   "file_extension": ".py",
   "mimetype": "text/x-python",
   "name": "python",
   "nbconvert_exporter": "python",
   "pygments_lexer": "ipython3",
   "version": "3.6.3"
  }
 },
 "nbformat": 4,
 "nbformat_minor": 2
}
