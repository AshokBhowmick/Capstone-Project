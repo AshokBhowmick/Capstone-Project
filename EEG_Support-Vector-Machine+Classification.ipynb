{
 "cells": [
  {
   "cell_type": "code",
   "execution_count": 62,
   "metadata": {
    "collapsed": true
   },
   "outputs": [],
   "source": [
    "## Support Vector Machine Classification applied to EEG data: Class 1 vs all\n",
    "##\n",
    "import numpy as np\n",
    "import pandas as pd\n",
    "from sklearn import decomposition\n",
    "from sklearn.decomposition import PCA\n",
    "from sklearn.preprocessing import scale\n",
    "import matplotlib.pyplot as plt\n",
    "%matplotlib inline"
   ]
  },
  {
   "cell_type": "code",
   "execution_count": 63,
   "metadata": {
    "collapsed": true
   },
   "outputs": [],
   "source": [
    "eeg_svm = pd.read_csv('eeg_class.csv')"
   ]
  },
  {
   "cell_type": "code",
   "execution_count": 64,
   "metadata": {},
   "outputs": [
    {
     "name": "stdout",
     "output_type": "stream",
     "text": [
      "<class 'pandas.core.frame.DataFrame'>\n",
      "RangeIndex: 11500 entries, 0 to 11499\n",
      "Columns: 179 entries, X1 to y\n",
      "dtypes: int64(179)\n",
      "memory usage: 15.7 MB\n"
     ]
    }
   ],
   "source": [
    "eeg_svm.info()"
   ]
  },
  {
   "cell_type": "code",
   "execution_count": 65,
   "metadata": {},
   "outputs": [],
   "source": [
    "Y = list(eeg_svm.pop('y'))"
   ]
  },
  {
   "cell_type": "code",
   "execution_count": 130,
   "metadata": {
    "collapsed": true
   },
   "outputs": [],
   "source": [
    "X1 = eeg_svm.values"
   ]
  },
  {
   "cell_type": "code",
   "execution_count": 67,
   "metadata": {
    "collapsed": true
   },
   "outputs": [],
   "source": [
    "pca = PCA(n_components=50)"
   ]
  },
  {
   "cell_type": "code",
   "execution_count": 68,
   "metadata": {},
   "outputs": [
    {
     "data": {
      "text/plain": [
       "PCA(copy=True, iterated_power='auto', n_components=50, random_state=None,\n",
       "  svd_solver='auto', tol=0.0, whiten=False)"
      ]
     },
     "execution_count": 68,
     "metadata": {},
     "output_type": "execute_result"
    }
   ],
   "source": [
    "pca.fit(X1)"
   ]
  },
  {
   "cell_type": "code",
   "execution_count": 69,
   "metadata": {},
   "outputs": [
    {
     "data": {
      "text/plain": [
       "[<matplotlib.lines.Line2D at 0x234573732b0>]"
      ]
     },
     "execution_count": 69,
     "metadata": {},
     "output_type": "execute_result"
    },
    {
     "data": {
      "image/png": "[encoded data removed]",
      "text/plain": [
       "<matplotlib.figure.Figure at 0x23457019860>"
      ]
     },
     "metadata": {},
     "output_type": "display_data"
    }
   ],
   "source": [
    "var= pca.explained_variance_ratio_\n",
    "var=np.cumsum(np.round(pca.explained_variance_ratio_, decimals=4)*100)\n",
    "plt.plot(var)"
   ]
  },
  {
   "cell_type": "code",
   "execution_count": 70,
   "metadata": {},
   "outputs": [
    {
     "data": {
      "text/plain": [
       "(11500, 50)"
      ]
     },
     "execution_count": 70,
     "metadata": {},
     "output_type": "execute_result"
    }
   ],
   "source": [
    "X = pca.fit_transform(X1)\n",
    "X.shape"
   ]
  },
  {
   "cell_type": "code",
   "execution_count": 71,
   "metadata": {},
   "outputs": [],
   "source": [
    "# Cross Validation\n",
    "from sklearn import cross_validation\n",
    "from sklearn.metrics import accuracy_score\n",
    "from sklearn.model_selection import cross_val_score\n",
    "from sklearn import metrics"
   ]
  },
  {
   "cell_type": "code",
   "execution_count": 93,
   "metadata": {
    "collapsed": true
   },
   "outputs": [],
   "source": [
    "# Cross Validation train test split of PC \n",
    "test_size = 0.30\n",
    "X_train, X_test, Y_train, Y_test = cross_validation.train_test_split(X, Y, test_size=test_size, random_state=0)"
   ]
  },
  {
   "cell_type": "code",
   "execution_count": 94,
   "metadata": {},
   "outputs": [
    {
     "data": {
      "text/plain": [
       "3450"
      ]
     },
     "execution_count": 94,
     "metadata": {},
     "output_type": "execute_result"
    }
   ],
   "source": [
    "len(X_test)"
   ]
  },
  {
   "cell_type": "code",
   "execution_count": 95,
   "metadata": {},
   "outputs": [],
   "source": [
    "Y_train = np.asarray(Y_train)\n",
    "Y_test = np.asarray(Y_test)"
   ]
  },
  {
   "cell_type": "code",
   "execution_count": 96,
   "metadata": {},
   "outputs": [
    {
     "data": {
      "text/plain": [
       "SVC(C=1.0, cache_size=200, class_weight=None, coef0=0.0,\n",
       "  decision_function_shape='ovr', degree=3, gamma='auto', kernel='rbf',\n",
       "  max_iter=-1, probability=False, random_state=0, shrinking=True,\n",
       "  tol=0.001, verbose=False)"
      ]
     },
     "execution_count": 96,
     "metadata": {},
     "output_type": "execute_result"
    }
   ],
   "source": [
    "# Training od Principal Components by Support Vector Machine Classification (SVC)\n",
    "from sklearn.svm import SVC\n",
    "classifier = SVC(kernel = 'rbf', random_state = 0)\n",
    "classifier.fit(X_train, Y_train)"
   ]
  },
  {
   "cell_type": "code",
   "execution_count": 97,
   "metadata": {
    "collapsed": true
   },
   "outputs": [],
   "source": [
    "pred_svm = classifier.predict(X_test)"
   ]
  },
  {
   "cell_type": "code",
   "execution_count": 98,
   "metadata": {},
   "outputs": [
    {
     "name": "stdout",
     "output_type": "stream",
     "text": [
      "[[2759    0]\n",
      " [ 691    0]]\n"
     ]
    }
   ],
   "source": [
    "from sklearn.metrics import confusion_matrix\n",
    "cm = confusion_matrix(Y_test, pred_svm)\n",
    "print(cm)"
   ]
  },
  {
   "cell_type": "code",
   "execution_count": 99,
   "metadata": {},
   "outputs": [
    {
     "data": {
      "image/png": "[encoded data removed]",
      "text/plain": [
       "<matplotlib.figure.Figure at 0x23457553358>"
      ]
     },
     "metadata": {},
     "output_type": "display_data"
    }
   ],
   "source": [
    "plt.matshow(cm)\n",
    "plt.colorbar()\n",
    "plt.show()"
   ]
  },
  {
   "cell_type": "code",
   "execution_count": 100,
   "metadata": {},
   "outputs": [
    {
     "name": "stdout",
     "output_type": "stream",
     "text": [
      "0.799710144928\n",
      "Accuracy: 79.97%\n"
     ]
    }
   ],
   "source": [
    "from sklearn import metrics\n",
    "print(metrics.accuracy_score(Y_test, pred_svm))\n",
    "accuracy = accuracy_score(Y_test, pred_svm)\n",
    "print(\"Accuracy: %.2f%%\" % (accuracy * 100.0))"
   ]
  },
  {
   "cell_type": "code",
   "execution_count": 119,
   "metadata": {},
   "outputs": [],
   "source": [
    "# Class 1 : seizure data\n",
    "eeg_01 = pd.read_csv('eeg_class1.csv')"
   ]
  },
  {
   "cell_type": "code",
   "execution_count": 120,
   "metadata": {
    "collapsed": true
   },
   "outputs": [],
   "source": [
    "# Class 2 : non-seizure data but probe at epileptic zone\n",
    "eeg_02 = pd.read_csv('eeg_class2.csv')"
   ]
  },
  {
   "cell_type": "code",
   "execution_count": 122,
   "metadata": {},
   "outputs": [],
   "source": [
    "# Concatanating the two data sets into one with only two classes : 1 and 2 as y values\n",
    "eeg_012 = pd.concat([eeg_01, eeg_02])"
   ]
  },
  {
   "cell_type": "code",
   "execution_count": 123,
   "metadata": {},
   "outputs": [
    {
     "name": "stdout",
     "output_type": "stream",
     "text": [
      "<class 'pandas.core.frame.DataFrame'>\n",
      "Int64Index: 4600 entries, 0 to 2299\n",
      "Columns: 179 entries, X1 to y\n",
      "dtypes: int64(179)\n",
      "memory usage: 6.3 MB\n"
     ]
    }
   ],
   "source": [
    "eeg_012.info()"
   ]
  },
  {
   "cell_type": "code",
   "execution_count": 127,
   "metadata": {},
   "outputs": [
    {
     "data": {
      "text/html": [
       "<div>\n",
       "<style>\n",
       "    .dataframe thead tr:only-child th {\n",
       "        text-align: right;\n",
       "    }\n",
       "\n",
       "    .dataframe thead th {\n",
       "        text-align: left;\n",
       "    }\n",
       "\n",
       "    .dataframe tbody tr th {\n",
       "        vertical-align: top;\n",
       "    }\n",
       "</style>\n",
       "<table border=\"1\" class=\"dataframe\">\n",
       "  <thead>\n",
       "    <tr style=\"text-align: right;\">\n",
       "      <th></th>\n",
       "      <th>X1</th>\n",
       "      <th>X2</th>\n",
       "      <th>X3</th>\n",
       "      <th>X4</th>\n",
       "      <th>X5</th>\n",
       "      <th>X6</th>\n",
       "      <th>X7</th>\n",
       "      <th>X8</th>\n",
       "      <th>X9</th>\n",
       "      <th>X10</th>\n",
       "      <th>...</th>\n",
       "      <th>X170</th>\n",
       "      <th>X171</th>\n",
       "      <th>X172</th>\n",
       "      <th>X173</th>\n",
       "      <th>X174</th>\n",
       "      <th>X175</th>\n",
       "      <th>X176</th>\n",
       "      <th>X177</th>\n",
       "      <th>X178</th>\n",
       "      <th>y</th>\n",
       "    </tr>\n",
       "  </thead>\n",
       "  <tbody>\n",
       "    <tr>\n",
       "      <th>0</th>\n",
       "      <td>386</td>\n",
       "      <td>382</td>\n",
       "      <td>356</td>\n",
       "      <td>331</td>\n",
       "      <td>320</td>\n",
       "      <td>315</td>\n",
       "      <td>307</td>\n",
       "      <td>272</td>\n",
       "      <td>244</td>\n",
       "      <td>232</td>\n",
       "      <td>...</td>\n",
       "      <td>164</td>\n",
       "      <td>150</td>\n",
       "      <td>146</td>\n",
       "      <td>152</td>\n",
       "      <td>157</td>\n",
       "      <td>156</td>\n",
       "      <td>154</td>\n",
       "      <td>143</td>\n",
       "      <td>129</td>\n",
       "      <td>1</td>\n",
       "    </tr>\n",
       "    <tr>\n",
       "      <th>1</th>\n",
       "      <td>-278</td>\n",
       "      <td>-246</td>\n",
       "      <td>-215</td>\n",
       "      <td>-191</td>\n",
       "      <td>-177</td>\n",
       "      <td>-167</td>\n",
       "      <td>-157</td>\n",
       "      <td>-139</td>\n",
       "      <td>-118</td>\n",
       "      <td>-92</td>\n",
       "      <td>...</td>\n",
       "      <td>-400</td>\n",
       "      <td>-379</td>\n",
       "      <td>-336</td>\n",
       "      <td>-281</td>\n",
       "      <td>-226</td>\n",
       "      <td>-174</td>\n",
       "      <td>-125</td>\n",
       "      <td>-79</td>\n",
       "      <td>-40</td>\n",
       "      <td>1</td>\n",
       "    </tr>\n",
       "    <tr>\n",
       "      <th>2</th>\n",
       "      <td>-167</td>\n",
       "      <td>-230</td>\n",
       "      <td>-280</td>\n",
       "      <td>-315</td>\n",
       "      <td>-338</td>\n",
       "      <td>-369</td>\n",
       "      <td>-405</td>\n",
       "      <td>-392</td>\n",
       "      <td>-298</td>\n",
       "      <td>-140</td>\n",
       "      <td>...</td>\n",
       "      <td>423</td>\n",
       "      <td>434</td>\n",
       "      <td>416</td>\n",
       "      <td>374</td>\n",
       "      <td>319</td>\n",
       "      <td>268</td>\n",
       "      <td>215</td>\n",
       "      <td>165</td>\n",
       "      <td>103</td>\n",
       "      <td>1</td>\n",
       "    </tr>\n",
       "    <tr>\n",
       "      <th>3</th>\n",
       "      <td>410</td>\n",
       "      <td>451</td>\n",
       "      <td>491</td>\n",
       "      <td>541</td>\n",
       "      <td>581</td>\n",
       "      <td>641</td>\n",
       "      <td>736</td>\n",
       "      <td>757</td>\n",
       "      <td>692</td>\n",
       "      <td>435</td>\n",
       "      <td>...</td>\n",
       "      <td>415</td>\n",
       "      <td>428</td>\n",
       "      <td>463</td>\n",
       "      <td>510</td>\n",
       "      <td>562</td>\n",
       "      <td>607</td>\n",
       "      <td>667</td>\n",
       "      <td>748</td>\n",
       "      <td>763</td>\n",
       "      <td>1</td>\n",
       "    </tr>\n",
       "    <tr>\n",
       "      <th>4</th>\n",
       "      <td>-264</td>\n",
       "      <td>-189</td>\n",
       "      <td>-117</td>\n",
       "      <td>-45</td>\n",
       "      <td>20</td>\n",
       "      <td>70</td>\n",
       "      <td>111</td>\n",
       "      <td>143</td>\n",
       "      <td>161</td>\n",
       "      <td>179</td>\n",
       "      <td>...</td>\n",
       "      <td>-231</td>\n",
       "      <td>-221</td>\n",
       "      <td>-248</td>\n",
       "      <td>-321</td>\n",
       "      <td>-444</td>\n",
       "      <td>-530</td>\n",
       "      <td>-548</td>\n",
       "      <td>-536</td>\n",
       "      <td>-486</td>\n",
       "      <td>1</td>\n",
       "    </tr>\n",
       "  </tbody>\n",
       "</table>\n",
       "<p>5 rows × 179 columns</p>\n",
       "</div>"
      ],
      "text/plain": [
       "    X1   X2   X3   X4   X5   X6   X7   X8   X9  X10 ...  X170  X171  X172  \\\n",
       "0  386  382  356  331  320  315  307  272  244  232 ...   164   150   146   \n",
       "1 -278 -246 -215 -191 -177 -167 -157 -139 -118  -92 ...  -400  -379  -336   \n",
       "2 -167 -230 -280 -315 -338 -369 -405 -392 -298 -140 ...   423   434   416   \n",
       "3  410  451  491  541  581  641  736  757  692  435 ...   415   428   463   \n",
       "4 -264 -189 -117  -45   20   70  111  143  161  179 ...  -231  -221  -248   \n",
       "\n",
       "   X173  X174  X175  X176  X177  X178  y  \n",
       "0   152   157   156   154   143   129  1  \n",
       "1  -281  -226  -174  -125   -79   -40  1  \n",
       "2   374   319   268   215   165   103  1  \n",
       "3   510   562   607   667   748   763  1  \n",
       "4  -321  -444  -530  -548  -536  -486  1  \n",
       "\n",
       "[5 rows x 179 columns]"
      ]
     },
     "execution_count": 127,
     "metadata": {},
     "output_type": "execute_result"
    }
   ],
   "source": [
    "eeg_012.head()"
   ]
  },
  {
   "cell_type": "code",
   "execution_count": 128,
   "metadata": {},
   "outputs": [
    {
     "data": {
      "text/html": [
       "<div>\n",
       "<style>\n",
       "    .dataframe thead tr:only-child th {\n",
       "        text-align: right;\n",
       "    }\n",
       "\n",
       "    .dataframe thead th {\n",
       "        text-align: left;\n",
       "    }\n",
       "\n",
       "    .dataframe tbody tr th {\n",
       "        vertical-align: top;\n",
       "    }\n",
       "</style>\n",
       "<table border=\"1\" class=\"dataframe\">\n",
       "  <thead>\n",
       "    <tr style=\"text-align: right;\">\n",
       "      <th></th>\n",
       "      <th>X1</th>\n",
       "      <th>X2</th>\n",
       "      <th>X3</th>\n",
       "      <th>X4</th>\n",
       "      <th>X5</th>\n",
       "      <th>X6</th>\n",
       "      <th>X7</th>\n",
       "      <th>X8</th>\n",
       "      <th>X9</th>\n",
       "      <th>X10</th>\n",
       "      <th>...</th>\n",
       "      <th>X170</th>\n",
       "      <th>X171</th>\n",
       "      <th>X172</th>\n",
       "      <th>X173</th>\n",
       "      <th>X174</th>\n",
       "      <th>X175</th>\n",
       "      <th>X176</th>\n",
       "      <th>X177</th>\n",
       "      <th>X178</th>\n",
       "      <th>y</th>\n",
       "    </tr>\n",
       "  </thead>\n",
       "  <tbody>\n",
       "    <tr>\n",
       "      <th>2295</th>\n",
       "      <td>62</td>\n",
       "      <td>68</td>\n",
       "      <td>75</td>\n",
       "      <td>75</td>\n",
       "      <td>75</td>\n",
       "      <td>77</td>\n",
       "      <td>81</td>\n",
       "      <td>85</td>\n",
       "      <td>82</td>\n",
       "      <td>81</td>\n",
       "      <td>...</td>\n",
       "      <td>-1</td>\n",
       "      <td>-2</td>\n",
       "      <td>-1</td>\n",
       "      <td>9</td>\n",
       "      <td>18</td>\n",
       "      <td>22</td>\n",
       "      <td>30</td>\n",
       "      <td>36</td>\n",
       "      <td>41</td>\n",
       "      <td>2</td>\n",
       "    </tr>\n",
       "    <tr>\n",
       "      <th>2296</th>\n",
       "      <td>-18</td>\n",
       "      <td>-12</td>\n",
       "      <td>-5</td>\n",
       "      <td>-4</td>\n",
       "      <td>-3</td>\n",
       "      <td>-9</td>\n",
       "      <td>-16</td>\n",
       "      <td>-27</td>\n",
       "      <td>-35</td>\n",
       "      <td>-49</td>\n",
       "      <td>...</td>\n",
       "      <td>-63</td>\n",
       "      <td>-58</td>\n",
       "      <td>-51</td>\n",
       "      <td>-48</td>\n",
       "      <td>-41</td>\n",
       "      <td>-30</td>\n",
       "      <td>-26</td>\n",
       "      <td>-17</td>\n",
       "      <td>-17</td>\n",
       "      <td>2</td>\n",
       "    </tr>\n",
       "    <tr>\n",
       "      <th>2297</th>\n",
       "      <td>102</td>\n",
       "      <td>137</td>\n",
       "      <td>158</td>\n",
       "      <td>158</td>\n",
       "      <td>128</td>\n",
       "      <td>92</td>\n",
       "      <td>60</td>\n",
       "      <td>56</td>\n",
       "      <td>63</td>\n",
       "      <td>63</td>\n",
       "      <td>...</td>\n",
       "      <td>76</td>\n",
       "      <td>64</td>\n",
       "      <td>59</td>\n",
       "      <td>44</td>\n",
       "      <td>39</td>\n",
       "      <td>23</td>\n",
       "      <td>11</td>\n",
       "      <td>4</td>\n",
       "      <td>2</td>\n",
       "      <td>2</td>\n",
       "    </tr>\n",
       "    <tr>\n",
       "      <th>2298</th>\n",
       "      <td>-136</td>\n",
       "      <td>-137</td>\n",
       "      <td>-138</td>\n",
       "      <td>-135</td>\n",
       "      <td>-130</td>\n",
       "      <td>-123</td>\n",
       "      <td>-116</td>\n",
       "      <td>-118</td>\n",
       "      <td>-119</td>\n",
       "      <td>-119</td>\n",
       "      <td>...</td>\n",
       "      <td>-1</td>\n",
       "      <td>3</td>\n",
       "      <td>5</td>\n",
       "      <td>8</td>\n",
       "      <td>13</td>\n",
       "      <td>16</td>\n",
       "      <td>24</td>\n",
       "      <td>34</td>\n",
       "      <td>42</td>\n",
       "      <td>2</td>\n",
       "    </tr>\n",
       "    <tr>\n",
       "      <th>2299</th>\n",
       "      <td>-22</td>\n",
       "      <td>-22</td>\n",
       "      <td>-23</td>\n",
       "      <td>-26</td>\n",
       "      <td>-36</td>\n",
       "      <td>-42</td>\n",
       "      <td>-45</td>\n",
       "      <td>-42</td>\n",
       "      <td>-45</td>\n",
       "      <td>-49</td>\n",
       "      <td>...</td>\n",
       "      <td>15</td>\n",
       "      <td>16</td>\n",
       "      <td>12</td>\n",
       "      <td>5</td>\n",
       "      <td>-1</td>\n",
       "      <td>-18</td>\n",
       "      <td>-37</td>\n",
       "      <td>-47</td>\n",
       "      <td>-48</td>\n",
       "      <td>2</td>\n",
       "    </tr>\n",
       "  </tbody>\n",
       "</table>\n",
       "<p>5 rows × 179 columns</p>\n",
       "</div>"
      ],
      "text/plain": [
       "       X1   X2   X3   X4   X5   X6   X7   X8   X9  X10 ...  X170  X171  X172  \\\n",
       "2295   62   68   75   75   75   77   81   85   82   81 ...    -1    -2    -1   \n",
       "2296  -18  -12   -5   -4   -3   -9  -16  -27  -35  -49 ...   -63   -58   -51   \n",
       "2297  102  137  158  158  128   92   60   56   63   63 ...    76    64    59   \n",
       "2298 -136 -137 -138 -135 -130 -123 -116 -118 -119 -119 ...    -1     3     5   \n",
       "2299  -22  -22  -23  -26  -36  -42  -45  -42  -45  -49 ...    15    16    12   \n",
       "\n",
       "      X173  X174  X175  X176  X177  X178  y  \n",
       "2295     9    18    22    30    36    41  2  \n",
       "2296   -48   -41   -30   -26   -17   -17  2  \n",
       "2297    44    39    23    11     4     2  2  \n",
       "2298     8    13    16    24    34    42  2  \n",
       "2299     5    -1   -18   -37   -47   -48  2  \n",
       "\n",
       "[5 rows x 179 columns]"
      ]
     },
     "execution_count": 128,
     "metadata": {},
     "output_type": "execute_result"
    }
   ],
   "source": [
    "eeg_012.tail()"
   ]
  },
  {
   "cell_type": "code",
   "execution_count": 129,
   "metadata": {
    "collapsed": true
   },
   "outputs": [],
   "source": [
    "yy = list(eeg_012.pop('y'))"
   ]
  },
  {
   "cell_type": "code",
   "execution_count": 131,
   "metadata": {
    "collapsed": true
   },
   "outputs": [],
   "source": [
    "xx = eeg_012.values"
   ]
  },
  {
   "cell_type": "code",
   "execution_count": 132,
   "metadata": {
    "collapsed": true
   },
   "outputs": [],
   "source": [
    "# Cross Validation train and test split of the data \n",
    "test_size = 0.30\n",
    "xx_train, xx_test, yy_train, yy_test = cross_validation.train_test_split(xx, yy, test_size=test_size, random_state=0)"
   ]
  },
  {
   "cell_type": "code",
   "execution_count": 134,
   "metadata": {},
   "outputs": [],
   "source": [
    "# Scaling the data for Support Vector Machine Classification\n",
    "from sklearn.preprocessing import StandardScaler\n",
    "sc = StandardScaler()\n",
    "xx_train = sc.fit_transform(xx_train)\n",
    "xx_test = sc.transform(xx_test)"
   ]
  },
  {
   "cell_type": "code",
   "execution_count": 135,
   "metadata": {
    "collapsed": true
   },
   "outputs": [],
   "source": [
    "# Converting y values as array\n",
    "yy_train = np.asarray(yy_train)\n",
    "yy_test = np.asarray(yy_test)"
   ]
  },
  {
   "cell_type": "code",
   "execution_count": 136,
   "metadata": {},
   "outputs": [
    {
     "data": {
      "text/plain": [
       "SVC(C=1.0, cache_size=200, class_weight=None, coef0=0.0,\n",
       "  decision_function_shape='ovr', degree=3, gamma='auto', kernel='rbf',\n",
       "  max_iter=-1, probability=False, random_state=0, shrinking=True,\n",
       "  tol=0.001, verbose=False)"
      ]
     },
     "execution_count": 136,
     "metadata": {},
     "output_type": "execute_result"
    }
   ],
   "source": [
    "# Applying SVM Classification\n",
    "classifier.fit(xx_train, yy_train)"
   ]
  },
  {
   "cell_type": "code",
   "execution_count": 137,
   "metadata": {
    "collapsed": true
   },
   "outputs": [],
   "source": [
    "# Predicting by SVM Model\n",
    "prediction = classifier.predict(xx_test)"
   ]
  },
  {
   "cell_type": "code",
   "execution_count": 138,
   "metadata": {},
   "outputs": [
    {
     "name": "stdout",
     "output_type": "stream",
     "text": [
      "[[628  80]\n",
      " [ 23 649]]\n"
     ]
    }
   ],
   "source": [
    "# Confusion Matrix \n",
    "cm_012 = confusion_matrix(yy_test, prediction)\n",
    "print(cm_012)"
   ]
  },
  {
   "cell_type": "code",
   "execution_count": 139,
   "metadata": {},
   "outputs": [
    {
     "data": {
      "image/png": "[encoded data removed]",
      "text/plain": [
       "<matplotlib.figure.Figure at 0x2345741cfd0>"
      ]
     },
     "metadata": {},
     "output_type": "display_data"
    }
   ],
   "source": [
    "plt.matshow(cm_012)\n",
    "plt.colorbar()\n",
    "plt.show()"
   ]
  },
  {
   "cell_type": "code",
   "execution_count": 140,
   "metadata": {},
   "outputs": [
    {
     "name": "stdout",
     "output_type": "stream",
     "text": [
      "0.925362318841\n",
      "Accuracy: 92.54%\n"
     ]
    }
   ],
   "source": [
    "print(metrics.accuracy_score(yy_test, prediction))\n",
    "accuracy_012 = accuracy_score(yy_test, prediction)\n",
    "print(\"Accuracy: %.2f%%\" % (accuracy_012 * 100.0))"
   ]
  },
  {
   "cell_type": "code",
   "execution_count": 153,
   "metadata": {},
   "outputs": [
    {
     "name": "stdout",
     "output_type": "stream",
     "text": [
      "Miscalculation\n",
      "0.0746376811594\n",
      "Recall\n",
      "0.887005649718\n",
      "Precision Score: 96.47%\n"
     ]
    }
   ],
   "source": [
    "print(\"Miscalculation\")\n",
    "print(1 - metrics.accuracy_score(yy_test, prediction))\n",
    "##\n",
    "print(\"Recall\")\n",
    "print(metrics.recall_score(yy_test, prediction))\n",
    "##\n",
    "precision = metrics.precision_score(yy_test, prediction)\n",
    "print(\"Precision Score: %.2f%%\" % (precision * 100))\n"
   ]
  },
  {
   "cell_type": "code",
   "execution_count": null,
   "metadata": {
    "collapsed": true
   },
   "outputs": [],
   "source": [
    "# Class 1 vs Class 2 SVM Model is 92.5% accurate in prediction of seizure cases"
   ]
  },
  {
   "cell_type": "code",
   "execution_count": 154,
   "metadata": {
    "collapsed": true
   },
   "outputs": [],
   "source": [
    "eeg_03 = pd.read_csv('eeg_class3.csv')"
   ]
  },
  {
   "cell_type": "code",
   "execution_count": 155,
   "metadata": {
    "collapsed": true
   },
   "outputs": [],
   "source": [
    "# Concatanating the data sets with only two classes : 1 and 3 as y values, Class 3 represents probe at healthy tissue\n",
    "eeg_013 = pd.concat([eeg_01, eeg_03])"
   ]
  },
  {
   "cell_type": "code",
   "execution_count": 156,
   "metadata": {},
   "outputs": [
    {
     "name": "stdout",
     "output_type": "stream",
     "text": [
      "<class 'pandas.core.frame.DataFrame'>\n",
      "Int64Index: 4600 entries, 0 to 2299\n",
      "Columns: 179 entries, X1 to y\n",
      "dtypes: int64(179)\n",
      "memory usage: 6.3 MB\n"
     ]
    }
   ],
   "source": [
    "eeg_013.info()"
   ]
  },
  {
   "cell_type": "code",
   "execution_count": 157,
   "metadata": {},
   "outputs": [
    {
     "data": {
      "text/html": [
       "<div>\n",
       "<style>\n",
       "    .dataframe thead tr:only-child th {\n",
       "        text-align: right;\n",
       "    }\n",
       "\n",
       "    .dataframe thead th {\n",
       "        text-align: left;\n",
       "    }\n",
       "\n",
       "    .dataframe tbody tr th {\n",
       "        vertical-align: top;\n",
       "    }\n",
       "</style>\n",
       "<table border=\"1\" class=\"dataframe\">\n",
       "  <thead>\n",
       "    <tr style=\"text-align: right;\">\n",
       "      <th></th>\n",
       "      <th>X1</th>\n",
       "      <th>X2</th>\n",
       "      <th>X3</th>\n",
       "      <th>X4</th>\n",
       "      <th>X5</th>\n",
       "      <th>X6</th>\n",
       "      <th>X7</th>\n",
       "      <th>X8</th>\n",
       "      <th>X9</th>\n",
       "      <th>X10</th>\n",
       "      <th>...</th>\n",
       "      <th>X170</th>\n",
       "      <th>X171</th>\n",
       "      <th>X172</th>\n",
       "      <th>X173</th>\n",
       "      <th>X174</th>\n",
       "      <th>X175</th>\n",
       "      <th>X176</th>\n",
       "      <th>X177</th>\n",
       "      <th>X178</th>\n",
       "      <th>y</th>\n",
       "    </tr>\n",
       "  </thead>\n",
       "  <tbody>\n",
       "    <tr>\n",
       "      <th>2295</th>\n",
       "      <td>-61</td>\n",
       "      <td>-71</td>\n",
       "      <td>-77</td>\n",
       "      <td>-74</td>\n",
       "      <td>-74</td>\n",
       "      <td>-72</td>\n",
       "      <td>-72</td>\n",
       "      <td>-76</td>\n",
       "      <td>-77</td>\n",
       "      <td>-76</td>\n",
       "      <td>...</td>\n",
       "      <td>-51</td>\n",
       "      <td>-58</td>\n",
       "      <td>-68</td>\n",
       "      <td>-88</td>\n",
       "      <td>-98</td>\n",
       "      <td>-101</td>\n",
       "      <td>-102</td>\n",
       "      <td>-99</td>\n",
       "      <td>-96</td>\n",
       "      <td>3</td>\n",
       "    </tr>\n",
       "    <tr>\n",
       "      <th>2296</th>\n",
       "      <td>-68</td>\n",
       "      <td>-43</td>\n",
       "      <td>-24</td>\n",
       "      <td>-3</td>\n",
       "      <td>-15</td>\n",
       "      <td>-16</td>\n",
       "      <td>-15</td>\n",
       "      <td>-17</td>\n",
       "      <td>-19</td>\n",
       "      <td>-29</td>\n",
       "      <td>...</td>\n",
       "      <td>87</td>\n",
       "      <td>88</td>\n",
       "      <td>90</td>\n",
       "      <td>91</td>\n",
       "      <td>96</td>\n",
       "      <td>98</td>\n",
       "      <td>102</td>\n",
       "      <td>100</td>\n",
       "      <td>91</td>\n",
       "      <td>3</td>\n",
       "    </tr>\n",
       "    <tr>\n",
       "      <th>2297</th>\n",
       "      <td>7</td>\n",
       "      <td>30</td>\n",
       "      <td>16</td>\n",
       "      <td>10</td>\n",
       "      <td>17</td>\n",
       "      <td>23</td>\n",
       "      <td>42</td>\n",
       "      <td>31</td>\n",
       "      <td>34</td>\n",
       "      <td>39</td>\n",
       "      <td>...</td>\n",
       "      <td>190</td>\n",
       "      <td>152</td>\n",
       "      <td>132</td>\n",
       "      <td>104</td>\n",
       "      <td>56</td>\n",
       "      <td>41</td>\n",
       "      <td>63</td>\n",
       "      <td>126</td>\n",
       "      <td>193</td>\n",
       "      <td>3</td>\n",
       "    </tr>\n",
       "    <tr>\n",
       "      <th>2298</th>\n",
       "      <td>-39</td>\n",
       "      <td>-16</td>\n",
       "      <td>-13</td>\n",
       "      <td>-14</td>\n",
       "      <td>-68</td>\n",
       "      <td>-84</td>\n",
       "      <td>-92</td>\n",
       "      <td>-61</td>\n",
       "      <td>-89</td>\n",
       "      <td>-86</td>\n",
       "      <td>...</td>\n",
       "      <td>-102</td>\n",
       "      <td>-75</td>\n",
       "      <td>-63</td>\n",
       "      <td>-44</td>\n",
       "      <td>-66</td>\n",
       "      <td>-49</td>\n",
       "      <td>-34</td>\n",
       "      <td>-31</td>\n",
       "      <td>-52</td>\n",
       "      <td>3</td>\n",
       "    </tr>\n",
       "    <tr>\n",
       "      <th>2299</th>\n",
       "      <td>-40</td>\n",
       "      <td>-25</td>\n",
       "      <td>-9</td>\n",
       "      <td>-12</td>\n",
       "      <td>-2</td>\n",
       "      <td>12</td>\n",
       "      <td>7</td>\n",
       "      <td>19</td>\n",
       "      <td>22</td>\n",
       "      <td>29</td>\n",
       "      <td>...</td>\n",
       "      <td>121</td>\n",
       "      <td>135</td>\n",
       "      <td>148</td>\n",
       "      <td>143</td>\n",
       "      <td>116</td>\n",
       "      <td>86</td>\n",
       "      <td>68</td>\n",
       "      <td>59</td>\n",
       "      <td>55</td>\n",
       "      <td>3</td>\n",
       "    </tr>\n",
       "  </tbody>\n",
       "</table>\n",
       "<p>5 rows × 179 columns</p>\n",
       "</div>"
      ],
      "text/plain": [
       "      X1  X2  X3  X4  X5  X6  X7  X8  X9  X10 ...  X170  X171  X172  X173  \\\n",
       "2295 -61 -71 -77 -74 -74 -72 -72 -76 -77  -76 ...   -51   -58   -68   -88   \n",
       "2296 -68 -43 -24  -3 -15 -16 -15 -17 -19  -29 ...    87    88    90    91   \n",
       "2297   7  30  16  10  17  23  42  31  34   39 ...   190   152   132   104   \n",
       "2298 -39 -16 -13 -14 -68 -84 -92 -61 -89  -86 ...  -102   -75   -63   -44   \n",
       "2299 -40 -25  -9 -12  -2  12   7  19  22   29 ...   121   135   148   143   \n",
       "\n",
       "      X174  X175  X176  X177  X178  y  \n",
       "2295   -98  -101  -102   -99   -96  3  \n",
       "2296    96    98   102   100    91  3  \n",
       "2297    56    41    63   126   193  3  \n",
       "2298   -66   -49   -34   -31   -52  3  \n",
       "2299   116    86    68    59    55  3  \n",
       "\n",
       "[5 rows x 179 columns]"
      ]
     },
     "execution_count": 157,
     "metadata": {},
     "output_type": "execute_result"
    }
   ],
   "source": [
    "eeg_013.tail()"
   ]
  },
  {
   "cell_type": "code",
   "execution_count": 158,
   "metadata": {
    "collapsed": true
   },
   "outputs": [],
   "source": [
    "y3 = list(eeg_013.pop('y'))"
   ]
  },
  {
   "cell_type": "code",
   "execution_count": 159,
   "metadata": {
    "collapsed": true
   },
   "outputs": [],
   "source": [
    "x3 = eeg_013.values"
   ]
  },
  {
   "cell_type": "code",
   "execution_count": 160,
   "metadata": {
    "collapsed": true
   },
   "outputs": [],
   "source": [
    "# Cross Validation train and test split of the data \n",
    "test_size = 0.30\n",
    "x3_train, x3_test, y3_train, y3_test = cross_validation.train_test_split(x3, y3, test_size=test_size, random_state=0)"
   ]
  },
  {
   "cell_type": "code",
   "execution_count": 162,
   "metadata": {},
   "outputs": [],
   "source": [
    "x3_train = sc.fit_transform(x3_train)\n",
    "x3_test = sc.transform(x3_test)"
   ]
  },
  {
   "cell_type": "code",
   "execution_count": 163,
   "metadata": {
    "collapsed": true
   },
   "outputs": [],
   "source": [
    "y3_train = np.asarray(y3_train)\n",
    "y3_test = np.asarray(y3_test)"
   ]
  },
  {
   "cell_type": "code",
   "execution_count": 164,
   "metadata": {},
   "outputs": [
    {
     "data": {
      "text/plain": [
       "SVC(C=1.0, cache_size=200, class_weight=None, coef0=0.0,\n",
       "  decision_function_shape='ovr', degree=3, gamma='auto', kernel='rbf',\n",
       "  max_iter=-1, probability=False, random_state=0, shrinking=True,\n",
       "  tol=0.001, verbose=False)"
      ]
     },
     "execution_count": 164,
     "metadata": {},
     "output_type": "execute_result"
    }
   ],
   "source": [
    "# Applying SVM Classification\n",
    "classifier.fit(x3_train, y3_train)"
   ]
  },
  {
   "cell_type": "code",
   "execution_count": 165,
   "metadata": {
    "collapsed": true
   },
   "outputs": [],
   "source": [
    "pred_3 = classifier.predict(x3_test)"
   ]
  },
  {
   "cell_type": "code",
   "execution_count": 166,
   "metadata": {},
   "outputs": [
    {
     "name": "stdout",
     "output_type": "stream",
     "text": [
      "[[681  27]\n",
      " [ 12 660]]\n"
     ]
    }
   ],
   "source": [
    "cm_3 = confusion_matrix(y3_test, pred_3)\n",
    "print(cm_3)"
   ]
  },
  {
   "cell_type": "code",
   "execution_count": 167,
   "metadata": {},
   "outputs": [
    {
     "data": {
      "image/png": "[encoded data removed]",
      "text/plain": [
       "<matplotlib.figure.Figure at 0x23459c4fd30>"
      ]
     },
     "metadata": {},
     "output_type": "display_data"
    }
   ],
   "source": [
    "plt.matshow(cm_3)\n",
    "plt.colorbar()\n",
    "plt.show()"
   ]
  },
  {
   "cell_type": "code",
   "execution_count": 168,
   "metadata": {},
   "outputs": [
    {
     "name": "stdout",
     "output_type": "stream",
     "text": [
      "0.971739130435\n",
      "Accuracy: 97.17%\n",
      "Miscalculation\n",
      "0.0282608695652\n",
      "Recall\n",
      "0.96186440678\n",
      "Precision Score: 98.27%\n"
     ]
    }
   ],
   "source": [
    "print(metrics.accuracy_score(y3_test, pred_3))\n",
    "accuracy_3 = accuracy_score(y3_test, pred_3)\n",
    "print(\"Accuracy: %.2f%%\" % (accuracy_3 * 100.0))\n",
    "##\n",
    "print(\"Miscalculation\")\n",
    "print(1 - metrics.accuracy_score(y3_test, pred_3))\n",
    "##\n",
    "print(\"Recall\")\n",
    "print(metrics.recall_score(y3_test, pred_3))\n",
    "##\n",
    "precision = metrics.precision_score(y3_test, pred_3)\n",
    "print(\"Precision Score: %.2f%%\" % (precision * 100))"
   ]
  },
  {
   "cell_type": "code",
   "execution_count": null,
   "metadata": {
    "collapsed": true
   },
   "outputs": [],
   "source": [
    "# Prediction score by SVM Model of epileptic seizure in reference to probe at healthy part is 97%\n",
    "# Better that probe at epileptic zone by ~ 5% \n",
    "# Makes better sense to quantify seizure w.r.t. signals from healthy part of the brain\n",
    "# Conditions to the data cannot be overruled to generalize a conclusion"
   ]
  }
 ],
 "metadata": {
  "kernelspec": {
   "display_name": "Python 3",
   "language": "python",
   "name": "python3"
  },
  "language_info": {
   "codemirror_mode": {
    "name": "ipython",
    "version": 3
   },
   "file_extension": ".py",
   "mimetype": "text/x-python",
   "name": "python",
   "nbconvert_exporter": "python",
   "pygments_lexer": "ipython3",
   "version": "3.6.3"
  }
 },
 "nbformat": 4,
 "nbformat_minor": 2
}
